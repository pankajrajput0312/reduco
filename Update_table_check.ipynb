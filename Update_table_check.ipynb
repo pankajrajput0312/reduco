{
 "cells": [
  {
   "cell_type": "code",
   "execution_count": 14,
   "metadata": {},
   "outputs": [],
   "source": [
    "import cv2\n",
    "import os\n",
    "import numpy as np\n",
    "import pandas as pd\n",
    "import datetime"
   ]
  },
  {
   "cell_type": "code",
   "execution_count": 15,
   "metadata": {},
   "outputs": [],
   "source": [
    "from weight_data import weight"
   ]
  },
  {
   "cell_type": "code",
   "execution_count": 2,
   "metadata": {},
   "outputs": [],
   "source": [
    "from weather_api import get_weather_data"
   ]
  },
  {
   "cell_type": "markdown",
   "metadata": {},
   "source": [
    "## loading azure services credentials\n"
   ]
  },
  {
   "cell_type": "code",
   "execution_count": 16,
   "metadata": {},
   "outputs": [],
   "source": [
    "from azure.cognitiveservices.vision.customvision.prediction import CustomVisionPredictionClient\n",
    "from msrest.authentication import ApiKeyCredentials"
   ]
  },
  {
   "cell_type": "code",
   "execution_count": 17,
   "metadata": {},
   "outputs": [],
   "source": [
    "credentials = ApiKeyCredentials(in_headers = {\"Prediction-Key\":\"bf595a2cb1854d988a1f9d26834cd4e2\"})\n",
    "predictor =  CustomVisionPredictionClient(\"https://pankaj.cognitiveservices.azure.com/\", credentials)"
   ]
  },
  {
   "cell_type": "code",
   "execution_count": 44,
   "metadata": {},
   "outputs": [],
   "source": [
    "def get_date_time()\n",
    "    x = datetime.datetime.now()\n",
    "    x= str(x)\n",
    "    date = x.split(\" \")[0]\n",
    "    time = x.split(\" \")[1].split(\".\")[0]\n",
    "    return (date,time)"
   ]
  },
  {
   "cell_type": "code",
   "execution_count": 29,
   "metadata": {},
   "outputs": [],
   "source": [
    "def vegetable_name(image):\n",
    "#     cv2.imwrite('capture.png', image)\n",
    "    with open(\"capture.png\", mode ='rb') as captured_image:\n",
    "        print(\"load image... and predict \")\n",
    "        results = predictor.classify_image(\"c22b7174-dd80-457b-829e-4d05496aee33\", \"Iteration2\", captured_image)\n",
    "        vegetable = \"\"\n",
    "        maxm_percentage = 0.0\n",
    "        for prediction in results.predictions:\n",
    "            if(prediction.probability> maxm_percentage):\n",
    "                vegetable = prediction.tag_name\n",
    "                maxm_percentage = prediction.probability\n",
    "            print(\"\\t\" + prediction.tag_name +\": {0:.2f}%\".format(prediction.probability * 100))\n",
    "    return vegetable"
   ]
  },
  {
   "cell_type": "code",
   "execution_count": 30,
   "metadata": {},
   "outputs": [],
   "source": [
    "def update_file(vegetable, weight, date, time, humidity, temperature):\n",
    "    '''\n",
    "        write code for \n",
    "        1. check which csv for loading if no csv mske on that day we need to make another csv file and \n",
    "            start updating all in that csv file in new column\n",
    "        \n",
    "    \n",
    "    '''\n",
    "    \n",
    "    minm_temp, maxm_temp, pressure, humidity, weather_desc, wind_spd = get_weather_data()\n",
    "    date,time = get_date_time()\n",
    "    \n",
    "        \n",
    "    return"
   ]
  },
  {
   "cell_type": "code",
   "execution_count": 36,
   "metadata": {},
   "outputs": [
    {
     "name": "stdout",
     "output_type": "stream",
     "text": [
      "load image... and predict \n",
      "\traddish: 99.82%\n",
      "\tCarrot: 0.13%\n",
      "\tginger: 0.04%\n",
      "\tCauli_flower: 0.01%\n",
      "\tbrinjal: 0.00%\n",
      "\tCabbage: 0.00%\n",
      "\tlady_finger: 0.00%\n",
      "\tcapsicum: 0.00%\n",
      "\tkaddu: 0.00%\n",
      "\tbeans: 0.00%\n",
      "\tkakdi: 0.00%\n",
      "\tlemon: 0.00%\n",
      "\tkarela: 0.00%\n",
      "[0. 0. 0. 0. 0.]\n",
      "all done\n"
     ]
    }
   ],
   "source": [
    "import cv2\n",
    "\n",
    "camera = cv2.VideoCapture(0)\n",
    "camera.set(cv2.CAP_PROP_FRAME_WIDTH, 640)\n",
    "camera.set(cv2.CAP_PROP_FRAME_HEIGHT, 480)\n",
    "count =0\n",
    "weight_array = np.zeros((5,))\n",
    "while(count==0):\n",
    "    ret, image = camera.read()\n",
    "    vegetable = vegetable_name(image)\n",
    "    \n",
    "    if(vegetable==\"blank\"):\n",
    "        #write code for get weeight data optimically \n",
    "        '''weight for updating '''\n",
    "        weight_for_updating = weight_array[(max(count, count - weight_array.shape[0])%weight_array.shape[0])]\n",
    "        \n",
    "        \n",
    "        \n",
    "        \n",
    "        \n",
    "        \n",
    "        \n",
    "        \n",
    "        \n",
    "    '''\n",
    "    get weight_data\n",
    "    '''\n",
    "    get_weight_data = weight(count)\n",
    "    '''ye delete karna hai'''\n",
    "    \n",
    "    weight_array[count%weight_array.shape[0]]= get_weight_data\n",
    "    print(weight_array)\n",
    "    \n",
    "    count+=1\n",
    "print(\"all done\")\n",
    "camera.release()"
   ]
  },
  {
   "cell_type": "code",
   "execution_count": 11,
   "metadata": {},
   "outputs": [
    {
     "data": {
      "text/plain": [
       "5"
      ]
     },
     "execution_count": 11,
     "metadata": {},
     "output_type": "execute_result"
    }
   ],
   "source": [
    "weight_array.shape[0]"
   ]
  },
  {
   "cell_type": "code",
   "execution_count": 45,
   "metadata": {},
   "outputs": [
    {
     "name": "stdout",
     "output_type": "stream",
     "text": [
      "2021-04-01 15:16:32\n"
     ]
    }
   ],
   "source": []
  },
  {
   "cell_type": "code",
   "execution_count": 39,
   "metadata": {},
   "outputs": [
    {
     "name": "stdout",
     "output_type": "stream",
     "text": [
      "1617270291.410317\n"
     ]
    }
   ],
   "source": []
  },
  {
   "cell_type": "code",
   "execution_count": null,
   "metadata": {},
   "outputs": [],
   "source": []
  }
 ],
 "metadata": {
  "kernelspec": {
   "display_name": "Python 3",
   "language": "python",
   "name": "python3"
  },
  "language_info": {
   "codemirror_mode": {
    "name": "ipython",
    "version": 3
   },
   "file_extension": ".py",
   "mimetype": "text/x-python",
   "name": "python",
   "nbconvert_exporter": "python",
   "pygments_lexer": "ipython3",
   "version": "3.7.9"
  }
 },
 "nbformat": 4,
 "nbformat_minor": 4
}
