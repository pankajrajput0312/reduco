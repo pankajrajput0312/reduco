{
 "cells": [
  {
   "cell_type": "code",
   "execution_count": 2,
   "metadata": {},
   "outputs": [],
   "source": [
    "'''import weight detection file \n",
    "    import vegetable detection file\n",
    "    import vegetable classification filie\n",
    "    '''\n",
    "from vegetable_detection import detect_vegetable\n",
    "from vegetable_classification import classify_vegetable\n",
    "from  weights_detection import detect_weight\n",
    "import numpy as np\n",
    "import cv2\n",
    "import matplotlib.pyplot as plt\n",
    "import os"
   ]
  },
  {
   "cell_type": "code",
   "execution_count": 3,
   "metadata": {},
   "outputs": [],
   "source": [
    "weight_stack = []\n",
    "curr_weight = 0\n",
    "curr_vegetable = \"None\""
   ]
  },
  {
   "cell_type": "code",
   "execution_count": 4,
   "metadata": {},
   "outputs": [],
   "source": [
    "def calculate_weight(weight):\n",
    "    curr_weight =0\n",
    "    weight = np.sum(weight)\n",
    "    curr_weight = np.sum(weight)\n",
    "    return curr_weight"
   ]
  },
  {
   "cell_type": "code",
   "execution_count": 5,
   "metadata": {},
   "outputs": [
    {
     "name": "stdout",
     "output_type": "stream",
     "text": [
      "15\n"
     ]
    }
   ],
   "source": [
    "weight = [[1,2,3],[4,5]]\n",
    "print(calculate_weight(weight))"
   ]
  },
  {
   "cell_type": "code",
   "execution_count": 6,
   "metadata": {},
   "outputs": [
    {
     "data": {
      "text/plain": [
       "'\\n    curr_weight represent jab update karna hai tab ka weight kitna hai\\n    curr_weight stack: store weights at all the positions\\n    curr_vegetable: kon si vegetable bech raha hai\\n    weight_in_frame: particular frame me kon kon se weights dikh rahe hai\\n'"
      ]
     },
     "execution_count": 6,
     "metadata": {},
     "output_type": "execute_result"
    }
   ],
   "source": [
    "'''\n",
    "    curr_weight represent jab update karna hai tab ka weight kitna hai\n",
    "    curr_weight stack: store weights at all the positions\n",
    "    curr_vegetable: kon si vegetable bech raha hai\n",
    "    weight_in_frame: particular frame me kon kon se weights dikh rahe hai\n",
    "'''"
   ]
  },
  {
   "cell_type": "code",
   "execution_count": 7,
   "metadata": {},
   "outputs": [],
   "source": [
    "def update_weight_stack(weight_stack, curr_detected_weight):\n",
    "    '''\n",
    "        updating weight person put in roi till now\n",
    "    '''\n",
    "    \n",
    "    return 0"
   ]
  },
  {
   "cell_type": "code",
   "execution_count": 8,
   "metadata": {},
   "outputs": [
    {
     "name": "stdout",
     "output_type": "stream",
     "text": [
      "[  0.   0. 240. 320.]\n",
      "(4,)\n",
      "<class 'str'>\n",
      "[  0.   0. 240. 320.]\n",
      "(4,)\n",
      "<class 'str'>\n",
      "[  0.   0. 240. 320.]\n",
      "(4,)\n",
      "<class 'str'>\n",
      "[  0.   0. 240. 320.]\n",
      "(4,)\n",
      "<class 'str'>\n",
      "[  0.   0. 240. 320.]\n",
      "(4,)\n",
      "<class 'str'>\n",
      "[  0.   0. 240. 320.]\n",
      "(4,)\n",
      "<class 'str'>\n",
      "[  0.   0. 240. 320.]\n",
      "(4,)\n",
      "<class 'str'>\n",
      "[  0.   0. 240. 320.]\n",
      "(4,)\n",
      "<class 'str'>\n",
      "[  0.   0. 240. 320.]\n",
      "(4,)\n",
      "<class 'str'>\n",
      "[  0.   0. 240. 320.]\n",
      "(4,)\n",
      "<class 'str'>\n",
      "[  0.   0. 240. 320.]\n",
      "(4,)\n",
      "<class 'str'>\n",
      "[  0.   0. 240. 320.]\n",
      "(4,)\n",
      "<class 'str'>\n",
      "[  0.   0. 240. 320.]\n",
      "(4,)\n",
      "<class 'str'>\n",
      "[  0.   0. 240. 320.]\n",
      "(4,)\n",
      "<class 'str'>\n",
      "[  0.   0. 240. 320.]\n",
      "(4,)\n",
      "<class 'str'>\n",
      "[  0.   0. 240. 320.]\n",
      "(4,)\n",
      "<class 'str'>\n",
      "[  0.   0. 240. 320.]\n",
      "(4,)\n",
      "<class 'str'>\n",
      "[  0.   0. 240. 320.]\n",
      "(4,)\n",
      "<class 'str'>\n",
      "[  0.   0. 240. 320.]\n",
      "(4,)\n",
      "<class 'str'>\n",
      "[  0.   0. 240. 320.]\n",
      "(4,)\n",
      "<class 'str'>\n",
      "[  0.   0. 240. 320.]\n",
      "(4,)\n",
      "<class 'str'>\n"
     ]
    }
   ],
   "source": [
    "cap = cv2.VideoCapture(0)\n",
    "while(True):\n",
    "    ret, frame = cap.read()\n",
    "    if(ret == False):\n",
    "        continue\n",
    "    '''\n",
    "        detected region of interest from given frame\n",
    "        then we crop roi from frame then classify vegetable\n",
    "    '''\n",
    "    vegetable_roi = np.array(detect_vegetable(frame)) # vegetable_roi in the form of (x1,y1, x2, y2)\n",
    "    print(vegetable_roi)\n",
    "    \n",
    "    print(vegetable_roi.shape)\n",
    "    cv2.imshow(\"frame\" , frame)\n",
    "\n",
    "    cropped_roi = frame[int(vegetable_roi[0]):int(vegetable_roi[3]), int(vegetable_roi[1]): int(vegetable_roi[3])]\n",
    "    cv2.imshow(\"cropped\",cropped_roi)\n",
    "    vegetable_name = classify_vegetable(cropped_roi)\n",
    "    '''\n",
    "        if vegetable name  is none it means sabji bich gayi hai so we calculate weigtht for updating \n",
    "        weight he bought\n",
    "    '''\n",
    "    print(type(vegetable_name))\n",
    "    if(vegetable_name == \"None\"):\n",
    "        curr_weight = calculate_weight(weight_stack)\n",
    "        weight_stack = []\n",
    "    \n",
    "    '''\n",
    "        if vegetable name something it means we need to update weight continuously\n",
    "    '''\n",
    "    weight_in_frame = detect_weight(frame)\n",
    "    if (cv2.waitKey(1) & 0xFF == 27):\n",
    "        break \n"
   ]
  },
  {
   "cell_type": "code",
   "execution_count": null,
   "metadata": {},
   "outputs": [],
   "source": []
  },
  {
   "cell_type": "code",
   "execution_count": null,
   "metadata": {},
   "outputs": [],
   "source": []
  },
  {
   "cell_type": "code",
   "execution_count": null,
   "metadata": {},
   "outputs": [],
   "source": []
  },
  {
   "cell_type": "code",
   "execution_count": null,
   "metadata": {},
   "outputs": [],
   "source": []
  }
 ],
 "metadata": {
  "kernelspec": {
   "display_name": "Python 3",
   "language": "python",
   "name": "python3"
  },
  "language_info": {
   "codemirror_mode": {
    "name": "ipython",
    "version": 3
   },
   "file_extension": ".py",
   "mimetype": "text/x-python",
   "name": "python",
   "nbconvert_exporter": "python",
   "pygments_lexer": "ipython3",
   "version": "3.7.9"
  }
 },
 "nbformat": 4,
 "nbformat_minor": 4
}
