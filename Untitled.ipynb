{
 "cells": [
  {
   "cell_type": "code",
   "execution_count": 3,
   "metadata": {},
   "outputs": [],
   "source": [
    "from imutils.perspective import four_point_transform\n",
    "from imutils import contours\n",
    "import imutils\n",
    "import cv2\n",
    "import matplotlib.pyplot as plt\n",
    "import numpy as np\n",
    "import os\n",
    "from azure.cognitiveservices.vision.customvision.prediction import CustomVisionPredictionClient\n",
    "from msrest.authentication import ApiKeyCredentials"
   ]
  },
  {
   "cell_type": "code",
   "execution_count": 8,
   "metadata": {},
   "outputs": [],
   "source": [
    "# image = cv2.imread(\"./predicion6.jpeg\")\n",
    "# image = cv2.resize(image, (1200,1200))\n",
    "def detect_weight(img_name):\n",
    "    credentials = ApiKeyCredentials(in_headers = {\"Prediction-Key\":\"bf595a2cb1854d988a1f9d26834cd4e2\"})\n",
    "    predictor =  CustomVisionPredictionClient(\"https://pankaj.cognitiveservices.azure.com/\", credentials)\n",
    "    # cv2.imwrite('detect_weight_region.png', image)\n",
    "    digit = \"\"\n",
    "    with open(img_name, mode ='rb') as captured_image:\n",
    "        # print(\"load digit image... and predict \")\n",
    "        results = predictor.detect_image(\"de960dda-1a51-444e-9fe9-84f8fbc4eff1\", \"Iteration4\", captured_image)\n",
    "        maxm_percentage = 0.0\n",
    "        output = []\n",
    "        for prediction in results.predictions:\n",
    "            if(prediction.probability > 0.8):\n",
    "    #         if(prediction.probability > maxm_percentage):\n",
    "                probability = prediction.probability\n",
    "                digit_name = prediction.tag_name\n",
    "                ans = [prediction.bounding_box.left, prediction.bounding_box.top, prediction.bounding_box.width, prediction.bounding_box.height, prediction.tag_name, prediction.probability]\n",
    "                output.append(ans)\n",
    "#                 print(\"\\t\" + prediction.tag_name + \": {0:.2f}% bbox.left = {1:.2f}, bbox.top = {2:.2f}, bbox.width = {3:.2f}, bbox.height = {4:.2f}\".format(prediction.probability * 100, prediction.bounding_box.left, prediction.bounding_box.top, prediction.bounding_box.width, prediction.bounding_box.height))\n",
    "        output = sorted(output)\n",
    "#         print(output)\n",
    "        digit_dict ={\"Zero\":0, \"One\":1, \"Two\":2, \"Three\":3, \"Four\":4, \"Five\":5, \"Six\":6, \"Seven\":7, \"Eight\":8, \"Nine\":9 }\n",
    "    #     no_of_digit =len(collection_of_image)\n",
    "        weight = 0.000\n",
    "        factor = 1\n",
    "    #     ouptut = np.array(output)\n",
    "        for i in range(len(output)):\n",
    "            number = output[len(output)-i-1][-2]\n",
    "            weight+=digit_dict[number]*factor\n",
    "            factor*=10\n",
    "\n",
    "        weight = weight*0.001\n",
    "        return weight"
   ]
  },
  {
   "cell_type": "code",
   "execution_count": 9,
   "metadata": {},
   "outputs": [
    {
     "data": {
      "text/plain": [
       "0.234"
      ]
     },
     "execution_count": 9,
     "metadata": {},
     "output_type": "execute_result"
    }
   ],
   "source": [
    "# detect_weight(\"./predicion6.jpeg\")"
   ]
  },
  {
   "cell_type": "code",
   "execution_count": null,
   "metadata": {},
   "outputs": [],
   "source": []
  }
 ],
 "metadata": {
  "kernelspec": {
   "display_name": "Python 3",
   "language": "python",
   "name": "python3"
  },
  "language_info": {
   "codemirror_mode": {
    "name": "ipython",
    "version": 3
   },
   "file_extension": ".py",
   "mimetype": "text/x-python",
   "name": "python",
   "nbconvert_exporter": "python",
   "pygments_lexer": "ipython3",
   "version": "3.7.9"
  }
 },
 "nbformat": 4,
 "nbformat_minor": 4
}
