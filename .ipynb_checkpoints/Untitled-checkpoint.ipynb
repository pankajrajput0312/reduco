{
 "cells": [
  {
   "cell_type": "code",
   "execution_count": 25,
   "metadata": {},
   "outputs": [],
   "source": [
    "import cv2\n",
    "import os\n",
    "import numpy as np\n",
    "import pandas as pd\n",
    "import datetime"
   ]
  },
  {
   "cell_type": "code",
   "execution_count": 26,
   "metadata": {},
   "outputs": [],
   "source": [
    "def get_date_time():\n",
    "    x = datetime.datetime.now()\n",
    "    x= str(x)\n",
    "    date = x.split(\" \")[0]\n",
    "    time = x.split(\" \")[1].split(\".\")[0]\n",
    "    return (date,time)"
   ]
  },
  {
   "cell_type": "code",
   "execution_count": 27,
   "metadata": {},
   "outputs": [],
   "source": [
    "def update_file(vegetable, weight):\n",
    "    '''\n",
    "        write code for \n",
    "        1. check which csv for loading if no csv mske on that day we need to make another csv file and \n",
    "            start updating all in that csv file in new column\n",
    "        \n",
    "    \n",
    "    '''\n",
    "    from csv import writer\n",
    "    minm_temp, maxm_temp, pressure, humidity, weather_desc, wind_spd = get_weather_data()\n",
    "    date,time = get_date_time()\n",
    "    # List \n",
    "    List=[date, time, minm_temp, maxm_temp, pressure, humidity, weather_desc, wind_spd]\n",
    "\n",
    "  \n",
    "    csv_file_name = str(date)+\".csv\"\n",
    "    save_path = \"./prediction_dataset/\"+csv_file_name\n",
    "    with open(save_path, 'a') as f_object:\n",
    "\n",
    "        # Pass this file object to csv.writer()\n",
    "        # and get a writer object\n",
    "        writer_object = writer(f_object)\n",
    "\n",
    "        # Pass the list as an argument into\n",
    "        # the writerow()\n",
    "        writer_object.writerow(List)\n",
    "\n",
    "        #Close the file object\n",
    "        f_object.close()\n",
    "    \n",
    "        \n",
    "    return"
   ]
  },
  {
   "cell_type": "code",
   "execution_count": 19,
   "metadata": {},
   "outputs": [],
   "source": [
    "from weather_api import get_weather_data"
   ]
  },
  {
   "cell_type": "code",
   "execution_count": 28,
   "metadata": {},
   "outputs": [
    {
     "name": "stdout",
     "output_type": "stream",
     "text": [
      "-------------------------------------------------------------\n",
      "Weather Stats for - DELHI  || 04 Apr 2021 | 11:36:08 AM\n",
      "-------------------------------------------------------------\n",
      "minm_temp:   304.15\n",
      "maxm_temp:  306.15\n",
      "pressure:  1011\n",
      "humidity:  16\n",
      "feels_like:  303.04\n",
      "weather_desc:  haze\n",
      "wind_spd:  2.06\n"
     ]
    }
   ],
   "source": [
    "update_file(\"raddish\", weight)"
   ]
  },
  {
   "cell_type": "code",
   "execution_count": 29,
   "metadata": {},
   "outputs": [],
   "source": [
    "vegetable = \"potato\"\n",
    "weight = 1000\n"
   ]
  },
  {
   "cell_type": "code",
   "execution_count": 10,
   "metadata": {},
   "outputs": [],
   "source": []
  },
  {
   "cell_type": "code",
   "execution_count": null,
   "metadata": {},
   "outputs": [],
   "source": []
  }
 ],
 "metadata": {
  "kernelspec": {
   "display_name": "Python 3",
   "language": "python",
   "name": "python3"
  },
  "language_info": {
   "codemirror_mode": {
    "name": "ipython",
    "version": 3
   },
   "file_extension": ".py",
   "mimetype": "text/x-python",
   "name": "python",
   "nbconvert_exporter": "python",
   "pygments_lexer": "ipython3",
   "version": "3.7.9"
  }
 },
 "nbformat": 4,
 "nbformat_minor": 4
}
