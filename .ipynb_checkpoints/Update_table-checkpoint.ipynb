{
 "cells": [
  {
   "cell_type": "code",
   "execution_count": 1,
   "metadata": {},
   "outputs": [],
   "source": [
    "'''import weight detection file \n",
    "    import vegetable detection file\n",
    "    import vegetable classification filie\n",
    "    '''\n",
    "from vegetable_detection import detect_vegetable\n",
    "from vegetable_classification import classify_vegetable\n",
    "from  weights_detection import detect_weight\n",
    "import numpy as np\n",
    "import cv2\n",
    "import matplotlib.pyplot as plt\n",
    "import os"
   ]
  },
  {
   "cell_type": "code",
   "execution_count": 2,
   "metadata": {},
   "outputs": [],
   "source": [
    "weight_stack = []\n",
    "weight_position_stack = [] \n",
    "curr_weight = 0\n",
    "curr_vegetable = \"None\""
   ]
  },
  {
   "cell_type": "code",
   "execution_count": 3,
   "metadata": {},
   "outputs": [],
   "source": [
    "def calculate_weight(weight):\n",
    "    curr_weight =0\n",
    "    weight = np.sum(weight)\n",
    "    curr_weight = np.sum(weight)\n",
    "    return curr_weight"
   ]
  },
  {
   "cell_type": "code",
   "execution_count": 4,
   "metadata": {},
   "outputs": [
    {
     "name": "stdout",
     "output_type": "stream",
     "text": [
      "15\n"
     ]
    }
   ],
   "source": [
    "weight = [[1,2,3],[4,5]]\n",
    "print(calculate_weight(weight))"
   ]
  },
  {
   "cell_type": "code",
   "execution_count": 5,
   "metadata": {},
   "outputs": [
    {
     "data": {
      "text/plain": [
       "'\\n    curr_weight represent jab update karna hai tab ka weight kitna hai\\n    curr_weight stack: store weights at all the positions\\n    curr_vegetable: kon si vegetable bech raha hai\\n    weight_in_frame: particular frame me kon kon se weights dikh rahe hai\\n'"
      ]
     },
     "execution_count": 5,
     "metadata": {},
     "output_type": "execute_result"
    }
   ],
   "source": [
    "'''\n",
    "    curr_weight represent jab update karna hai tab ka weight kitna hai\n",
    "    curr_weight stack: store weights at all the positions\n",
    "    curr_vegetable: kon si vegetable bech raha hai\n",
    "    weight_in_frame: particular frame me kon kon se weights dikh rahe hai\n",
    "'''"
   ]
  },
  {
   "cell_type": "code",
   "execution_count": 6,
   "metadata": {},
   "outputs": [],
   "source": [
    "def nms(box1, box2):\n",
    "    x1_ = max(box1[0], box2[0])\n",
    "    y1_ = max(box1[1], box2[1])\n",
    "    x2_ = min(box1[2], box2[2])\n",
    "    y2_ = min(box1[3], box2[3])\n",
    "    intersection_area = max(0,(x2_ - x1_))* max(0, (y2_ - y1_))\n",
    "    box1_area = (box1[2]- box1[0])*(box1[3]-box1[1])\n",
    "    box2_area = (box2[2]- box2[0])*(box2[3]-box2[1])\n",
    "    union_area = box1_area +box2_area -intersection_area\n",
    "    nms_value = intersection_area/union_area\n",
    "    return nms_value"
   ]
  },
  {
   "cell_type": "code",
   "execution_count": 7,
   "metadata": {},
   "outputs": [],
   "source": [
    "def update_weight_stack(weight_stack, weight_postion_stack, curr_detected_weight):\n",
    "    '''\n",
    "        updating weight person put in roi till now\n",
    "    '''\n",
    "    \n",
    "    return 0"
   ]
  },
  {
   "cell_type": "code",
   "execution_count": 1,
   "metadata": {},
   "outputs": [
    {
     "ename": "NameError",
     "evalue": "name 'cv2' is not defined",
     "output_type": "error",
     "traceback": [
      "\u001b[0;31m---------------------------------------------------------------------------\u001b[0m",
      "\u001b[0;31mNameError\u001b[0m                                 Traceback (most recent call last)",
      "\u001b[0;32m<ipython-input-1-d562cac2d92d>\u001b[0m in \u001b[0;36m<module>\u001b[0;34m\u001b[0m\n\u001b[0;32m----> 1\u001b[0;31m \u001b[0mcap\u001b[0m \u001b[0;34m=\u001b[0m \u001b[0mcv2\u001b[0m\u001b[0;34m.\u001b[0m\u001b[0mVideoCapture\u001b[0m\u001b[0;34m(\u001b[0m\u001b[0;36m0\u001b[0m\u001b[0;34m)\u001b[0m\u001b[0;34m\u001b[0m\u001b[0;34m\u001b[0m\u001b[0m\n\u001b[0m\u001b[1;32m      2\u001b[0m \u001b[0;32mwhile\u001b[0m\u001b[0;34m(\u001b[0m\u001b[0;32mTrue\u001b[0m\u001b[0;34m)\u001b[0m\u001b[0;34m:\u001b[0m\u001b[0;34m\u001b[0m\u001b[0;34m\u001b[0m\u001b[0m\n\u001b[1;32m      3\u001b[0m     \u001b[0mret\u001b[0m\u001b[0;34m,\u001b[0m \u001b[0mframe\u001b[0m \u001b[0;34m=\u001b[0m \u001b[0mcap\u001b[0m\u001b[0;34m.\u001b[0m\u001b[0mread\u001b[0m\u001b[0;34m(\u001b[0m\u001b[0;34m)\u001b[0m\u001b[0;34m\u001b[0m\u001b[0;34m\u001b[0m\u001b[0m\n\u001b[1;32m      4\u001b[0m     \u001b[0;32mif\u001b[0m\u001b[0;34m(\u001b[0m\u001b[0mret\u001b[0m \u001b[0;34m==\u001b[0m \u001b[0;32mFalse\u001b[0m\u001b[0;34m)\u001b[0m\u001b[0;34m:\u001b[0m\u001b[0;34m\u001b[0m\u001b[0;34m\u001b[0m\u001b[0m\n\u001b[1;32m      5\u001b[0m         \u001b[0;32mcontinue\u001b[0m\u001b[0;34m\u001b[0m\u001b[0;34m\u001b[0m\u001b[0m\n",
      "\u001b[0;31mNameError\u001b[0m: name 'cv2' is not defined"
     ]
    }
   ],
   "source": [
    "cap = cv2.VideoCapture(0)\n",
    "while(True):\n",
    "    ret, frame = cap.read()\n",
    "    if(ret == False):\n",
    "        continue\n",
    "    '''\n",
    "        detected region of interest from given frame\n",
    "        then we crop roi from frame then classify vegetable\n",
    "    '''\n",
    "    vegetable_roi = np.array(detect_vegetable(frame)) # vegetable_roi in the form of (x1,y1, x2, y2)\n",
    "    print(vegetable_roi)\n",
    "    \n",
    "    print(vegetable_roi.shape)\n",
    "    cv2.imshow(\"frame\" , frame)\n",
    "\n",
    "    cropped_roi = frame[int(vegetable_roi[0]):int(vegetable_roi[3]), int(vegetable_roi[1]): int(vegetable_roi[3])]\n",
    "    cv2.imshow(\"cropped\",cropped_roi)\n",
    "    vegetable_name = classify_vegetable(cropped_roi)\n",
    "    '''\n",
    "        if vegetable name  is none it means sabji bich gayi hai so we calculate weigtht for updating \n",
    "        weight he bought\n",
    "    '''\n",
    "    print(type(vegetable_name))\n",
    "    if(vegetable_name == \"None\"):\n",
    "        curr_weight = calculate_weight(weight_stack)\n",
    "        weight_stack = []\n",
    "        weight_position_stack = []\n",
    "    \n",
    "    '''\n",
    "        if vegetable name something it means we need to update weight continuously\n",
    "    '''\n",
    "    weight_in_frame = detect_weight(frame)\n",
    "    update_weight_stack(weight_stack,weight_position_stack, weight_in_frame)\n",
    "    if (cv2.waitKey(1) & 0xFF == 27):\n",
    "        break \n"
   ]
  },
  {
   "cell_type": "code",
   "execution_count": null,
   "metadata": {},
   "outputs": [],
   "source": []
  },
  {
   "cell_type": "code",
   "execution_count": null,
   "metadata": {},
   "outputs": [],
   "source": []
  },
  {
   "cell_type": "code",
   "execution_count": null,
   "metadata": {},
   "outputs": [],
   "source": []
  },
  {
   "cell_type": "code",
   "execution_count": null,
   "metadata": {},
   "outputs": [],
   "source": []
  }
 ],
 "metadata": {
  "kernelspec": {
   "display_name": "Python 3",
   "language": "python",
   "name": "python3"
  },
  "language_info": {
   "codemirror_mode": {
    "name": "ipython",
    "version": 3
   },
   "file_extension": ".py",
   "mimetype": "text/x-python",
   "name": "python",
   "nbconvert_exporter": "python",
   "pygments_lexer": "ipython3",
   "version": "3.7.9"
  }
 },
 "nbformat": 4,
 "nbformat_minor": 4
}
