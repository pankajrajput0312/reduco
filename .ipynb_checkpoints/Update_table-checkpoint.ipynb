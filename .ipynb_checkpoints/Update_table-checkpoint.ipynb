{
 "cells": [
  {
   "cell_type": "code",
   "execution_count": 1,
   "metadata": {},
   "outputs": [],
   "source": [
    "'''\n",
    "    import weight detection file \n",
    "    import vegetable detection file\n",
    "    import vegetable classification filie\n",
    "'''\n",
    "from vegetable_detection import detect_vegetable\n",
    "from vegetable_classification import classify_vegetable\n",
    "from  weights_detection import detect_weight\n",
    "import numpy as np\n",
    "import cv2\n",
    "import matplotlib.pyplot as plt\n",
    "import os"
   ]
  },
  {
   "cell_type": "code",
   "execution_count": 2,
   "metadata": {},
   "outputs": [],
   "source": [
    "weight_stack = []\n",
    "weight_position_stack = [] \n",
    "curr_weight = 0\n",
    "curr_vegetable = \"None\""
   ]
  },
  {
   "cell_type": "code",
   "execution_count": 3,
   "metadata": {},
   "outputs": [],
   "source": [
    "def calculate_weight(weight):\n",
    "    curr_weight =0\n",
    "    weight = np.sum(weight)\n",
    "    curr_weight = np.sum(weight)\n",
    "    return curr_weight"
   ]
  },
  {
   "cell_type": "code",
   "execution_count": 4,
   "metadata": {},
   "outputs": [
    {
     "name": "stdout",
     "output_type": "stream",
     "text": [
      "15\n"
     ]
    }
   ],
   "source": [
    "weight = [[1,2,3],[4,5]]\n",
    "print(calculate_weight(weight))"
   ]
  },
  {
   "cell_type": "code",
   "execution_count": 5,
   "metadata": {},
   "outputs": [
    {
     "data": {
      "text/plain": [
       "'\\n    curr_weight represent jab update karna hai tab ka weight kitna hai\\n    curr_weight stack: store weights at all the positions\\n    curr_vegetable: kon si vegetable bech raha hai\\n    weight_in_frame: particular frame me kon kon se weights dikh rahe hai\\n'"
      ]
     },
     "execution_count": 5,
     "metadata": {},
     "output_type": "execute_result"
    }
   ],
   "source": [
    "'''\n",
    "    curr_weight represent jab update karna hai tab ka weight kitna hai\n",
    "    curr_weight stack: store weights at all the positions\n",
    "    curr_vegetable: kon si vegetable bech raha hai\n",
    "    weight_in_frame: particular frame me kon kon se weights dikh rahe hai\n",
    "'''"
   ]
  },
  {
   "cell_type": "code",
   "execution_count": 6,
   "metadata": {},
   "outputs": [],
   "source": [
    "def nms(box1, box2):\n",
    "    x1_ = max(box1[0], box2[0])\n",
    "    y1_ = max(box1[1], box2[1])\n",
    "    x2_ = min(box1[2], box2[2])\n",
    "    y2_ = min(box1[3], box2[3])\n",
    "    intersection_area = max(0,(x2_ - x1_))* max(0, (y2_ - y1_))\n",
    "    box1_area = (box1[2]- box1[0])*(box1[3]-box1[1])\n",
    "    box2_area = (box2[2]- box2[0])*(box2[3]-box2[1])\n",
    "    union_area = box1_area +box2_area -intersection_area\n",
    "    nms_value = intersection_area/union_area\n",
    "    return nms_value"
   ]
  },
  {
   "cell_type": "code",
   "execution_count": 7,
   "metadata": {},
   "outputs": [
    {
     "ename": "SyntaxError",
     "evalue": "invalid syntax (<ipython-input-7-b5eaefb86756>, line 23)",
     "output_type": "error",
     "traceback": [
      "\u001b[0;36m  File \u001b[0;32m\"<ipython-input-7-b5eaefb86756>\"\u001b[0;36m, line \u001b[0;32m23\u001b[0m\n\u001b[0;31m    else if (curr_box_array[-1] > previously_weight_stack[-1]):\u001b[0m\n\u001b[0m          ^\u001b[0m\n\u001b[0;31mSyntaxError\u001b[0m\u001b[0;31m:\u001b[0m invalid syntax\n"
     ]
    }
   ],
   "source": [
    "def update_weight_stack(weight_stack, weight_position_stack, curr_detected_weights):\n",
    "    old_weight_stack_present = np.zeros(weight_position_stack.shape[0])\n",
    "    for i in range(curr_detected_weights.shape[0]):\n",
    "        curr_box_array = curr_detected_weights[i] # particular_detected_weight_ki_position\n",
    "        '''\n",
    "        now we iterate on previously detected weight stack to check is it a new stack or previosly updated stack\n",
    "        '''\n",
    "        n= weight_position_stack.shape[0]\n",
    "        for j in range(n):\n",
    "            previously_detected_weight = weight_position_stack[j]\n",
    "            previous_weight_stack = weight_stack[j]\n",
    "            \n",
    "            nms_value = nms(curr_box_array[1:-1], previously_detected_weight)\n",
    "            if(nms_value<0.5):\n",
    "                '''Naya weight alag stack me add hua '''\n",
    "                weight_position_stack.append(curr_box_array[1:-1])\n",
    "                weight_stack.append([curr_box_array[-1]])\n",
    "            else:\n",
    "                old_weight_stack_present[j] = 1\n",
    "                '''checking weight added or removed in jth stack'''\n",
    "                if(curr_box_array[-1] < previously_weight_stack[-1]):\n",
    "                    weight_stack[j].append(curr_box_array[-1])\n",
    "                else if (curr_box_array[-1] > previously_weight_stack[-1]):\n",
    "                    weight_stack[j].pop(-1)\n",
    "\n",
    "    k=0\n",
    "    n = old_weight_stack_present.shape[0]\n",
    "    indexes = np.where(nums == 0)[0]\n",
    "    for i in range(n):\n",
    "        if(old_weight_stack_present[i-j]==0):\n",
    "            old_weight_stack_present.pop(i-k)\n",
    "            k+=1\n",
    "    return (weight_stack,weight_position_stack)\n",
    "        \n",
    "            \n",
    "    "
   ]
  },
  {
   "cell_type": "code",
   "execution_count": 8,
   "metadata": {},
   "outputs": [],
   "source": [
    "# def update_weight_stack(weight_stack, weight_postion_stack, curr_detected_weight):\n",
    "#     '''\n",
    "#         updating weight person put in roi till now\n",
    "#     '''\n",
    "#     '''\n",
    "#     old_weight_stack_present : this if for checking is any weight removed or not \n",
    "#     '''\n",
    "#     old_weight_stack_present = np.zeros(weight_stack.shape[0])\n",
    "#     for i in range(curr_detected_weight.shape[0]):\n",
    "#         curr_box_position = curr_detected_weight[i]\n",
    "#         bool ye_mila = False\n",
    "#         for j in range(weight_postion_stack.shape[0]):\n",
    "            \n",
    "#             nms_value = nms(weight_postion_stack[j], curr_box_position)\n",
    "#             if(nms_value>0.5):\n",
    "#                 '''matlab same box hai'''\n",
    "#                 ye_mila = True\n",
    "#                 old_weight_stack_present =1\n",
    "#                 '''checking if weight same hai to kuch update nahi karna \n",
    "#                 agar us position ke box ki value choti hai matlab new weight add kiya hai\n",
    "#                 and if value greater then  '''\n",
    "#                 top_value_of_stack = weight_stack[j][weight_stack[j].shape[0]-1]\n",
    "                \n",
    "                \n",
    "#                 '''\n",
    "#                 add karna hai abhi \n",
    "#                 '''\n",
    "#         if(!ye_mila):\n",
    "#             weight_stack.append()\n",
    "        \n",
    "    \n",
    "#     return 0"
   ]
  },
  {
   "cell_type": "code",
   "execution_count": null,
   "metadata": {},
   "outputs": [],
   "source": []
  },
  {
   "cell_type": "code",
   "execution_count": 11,
   "metadata": {},
   "outputs": [
    {
     "ename": "IndentationError",
     "evalue": "unindent does not match any outer indentation level (<tokenize>, line 34)",
     "output_type": "error",
     "traceback": [
      "\u001b[0;36m  File \u001b[0;32m\"<tokenize>\"\u001b[0;36m, line \u001b[0;32m34\u001b[0m\n\u001b[0;31m    if(vegetable_name != curr_vegetable):\u001b[0m\n\u001b[0m    ^\u001b[0m\n\u001b[0;31mIndentationError\u001b[0m\u001b[0;31m:\u001b[0m unindent does not match any outer indentation level\n"
     ]
    }
   ],
   "source": [
    "cap = cv2.VideoCapture(0)\n",
    "while(True):\n",
    "    ret, frame = cap.read()\n",
    "    if(ret == False):\n",
    "        continue\n",
    "    '''\n",
    "        detected region of interest from given frame\n",
    "        then we crop roi from frame then classify vegetable\n",
    "    '''\n",
    "    vegetable_roi = np.array(detect_vegetable(frame)) # vegetable_roi in the form of (x1,y1, x2, y2)\n",
    "    print(vegetable_roi)\n",
    "    \n",
    "    print(vegetable_roi.shape)\n",
    "    cv2.imshow(\"frame\" , frame)\n",
    "\n",
    "    cropped_roi = frame[int(vegetable_roi[0]):int(vegetable_roi[3]), int(vegetable_roi[1]): int(vegetable_roi[3])]\n",
    "    cv2.imshow(\"cropped\",cropped_roi)\n",
    "    vegetable_name = classify_vegetable(cropped_roi)\n",
    "    '''\n",
    "        if vegetable name  is none it means sabji bich gayi hai so we calculate weigtht for updating \n",
    "        weight he bought\n",
    "    '''\n",
    "    print(type(vegetable_name))\n",
    "    if(vegetable_name == \"None\"):\n",
    "        curr_weight = calculate_weight(weight_stack)\n",
    "        \n",
    "        '''write code for updating values in excel file'''\n",
    "        weight_stack = []\n",
    "        weight_position_stack = []\n",
    "    else:\n",
    "        \n",
    "            curr_detected_weights = detect_weight(frame)\n",
    "            weight_stack,weight_position_stack = update_weight_stack(weight_stack,weight_position_stack, curr_detected_weights)\n",
    "        if(vegetable_name != curr_vegetable):    \n",
    "            '''\n",
    "                if vegetable name something it means we need to update weight continuously\n",
    "            '''\n",
    "            curr_vegetable = vegetable_name\n",
    "        \n",
    "            \n",
    "   \n",
    "    weight_in_frame = detect_weight(frame)\n",
    "    update_weight_stack(weight_stack,weight_position_stack, weight_in_frame, )\n",
    "    if (cv2.waitKey(1) & 0xFF == 27):\n",
    "        break \n",
    "        \n"
   ]
  },
  {
   "cell_type": "code",
   "execution_count": 12,
   "metadata": {},
   "outputs": [],
   "source": [
    "\n",
    "import numpy as np\n",
    "a = np.zeros(3)"
   ]
  },
  {
   "cell_type": "code",
   "execution_count": null,
   "metadata": {},
   "outputs": [],
   "source": []
  },
  {
   "cell_type": "code",
   "execution_count": 13,
   "metadata": {},
   "outputs": [
    {
     "name": "stdout",
     "output_type": "stream",
     "text": [
      "[0. 0. 0.]\n"
     ]
    }
   ],
   "source": [
    "print(a)"
   ]
  },
  {
   "cell_type": "code",
   "execution_count": null,
   "metadata": {},
   "outputs": [],
   "source": []
  },
  {
   "cell_type": "code",
   "execution_count": null,
   "metadata": {},
   "outputs": [],
   "source": []
  }
 ],
 "metadata": {
  "kernelspec": {
   "display_name": "Python 3",
   "language": "python",
   "name": "python3"
  },
  "language_info": {
   "codemirror_mode": {
    "name": "ipython",
    "version": 3
   },
   "file_extension": ".py",
   "mimetype": "text/x-python",
   "name": "python",
   "nbconvert_exporter": "python",
   "pygments_lexer": "ipython3",
   "version": "3.7.9"
  }
 },
 "nbformat": 4,
 "nbformat_minor": 4
}
